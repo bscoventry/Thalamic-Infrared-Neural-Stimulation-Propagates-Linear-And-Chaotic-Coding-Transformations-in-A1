{
 "cells": [
  {
   "cell_type": "markdown",
   "metadata": {},
   "source": [
    "# Tutorial 01 - Working with Spike Data\n",
    "\n",
    "The SPyke data class allows for flexible analysis of neural data, including spike sorting, wave visualization, PSTHs, and more."
   ]
  },
  {
   "cell_type": "code",
   "execution_count": 3,
   "metadata": {},
   "outputs": [
    {
     "name": "stdout",
     "output_type": "stream",
     "text": [
      "read from t=0s to t=153.36s\n"
     ]
    }
   ],
   "source": [
    "# import statements\n",
    "import SPyke\n",
    "import matplotlib.pyplot as plt\n",
    "\n",
    "# put matplotlib in widget mode so that we can use interactive plots\n",
    "%matplotlib widget \n",
    "\n",
    "# path to directory containing the TDT tank\n",
    "directory = r\"pnpig191126-191204-174838\"\n",
    "data = SPyke.Spike(directory)              #Load in all stores"
   ]
  }
 ],
 "metadata": {
  "kernelspec": {
   "display_name": "Python 3.9.12 64-bit ('Anaconda3')",
   "language": "python",
   "name": "python3"
  },
  "language_info": {
   "codemirror_mode": {
    "name": "ipython",
    "version": 3
   },
   "file_extension": ".py",
   "mimetype": "text/x-python",
   "name": "python",
   "nbconvert_exporter": "python",
   "pygments_lexer": "ipython3",
   "version": "3.9.12"
  },
  "vscode": {
   "interpreter": {
    "hash": "c22a23967ace23aee78c2025d8a40e63230723c762040c35cfa6dbfaa436aba0"
   }
  }
 },
 "nbformat": 4,
 "nbformat_minor": 4
}
